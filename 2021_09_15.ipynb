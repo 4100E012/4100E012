{
  "nbformat": 4,
  "nbformat_minor": 0,
  "metadata": {
    "colab": {
      "name": "2021/09/15",
      "provenance": [],
      "authorship_tag": "ABX9TyM3jeLhtwE/VBvowLcwfUcN",
      "include_colab_link": true
    },
    "kernelspec": {
      "name": "python3",
      "display_name": "Python 3"
    },
    "language_info": {
      "name": "python"
    }
  },
  "cells": [
    {
      "cell_type": "markdown",
      "metadata": {
        "id": "view-in-github",
        "colab_type": "text"
      },
      "source": [
        "<a href=\"https://colab.research.google.com/github/4100E012/4100E012/blob/main/2021_09_15.ipynb\" target=\"_parent\"><img src=\"https://colab.research.google.com/assets/colab-badge.svg\" alt=\"Open In Colab\"/></a>"
      ]
    },
    {
      "cell_type": "code",
      "metadata": {
        "colab": {
          "base_uri": "https://localhost:8080/"
        },
        "id": "yjo9358PduPX",
        "outputId": "72a8e40d-e6ad-4271-dfdd-6c609db5fe09"
      },
      "source": [
        "import pandas as pd\n",
        "print(\"pandas version: %s\" % pd.__version__)"
      ],
      "execution_count": 1,
      "outputs": [
        {
          "output_type": "stream",
          "name": "stdout",
          "text": [
            "pandas version: 1.1.5\n"
          ]
        }
      ]
    }
  ]
}