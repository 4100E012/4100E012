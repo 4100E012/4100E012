{
  "nbformat": 4,
  "nbformat_minor": 0,
  "metadata": {
    "colab": {
      "name": "python20210929",
      "provenance": [],
      "authorship_tag": "ABX9TyNi2tfd8v8qeR2rghtsIUb1",
      "include_colab_link": true
    },
    "kernelspec": {
      "name": "python3",
      "display_name": "Python 3"
    },
    "language_info": {
      "name": "python"
    }
  },
  "cells": [
    {
      "cell_type": "markdown",
      "metadata": {
        "id": "view-in-github",
        "colab_type": "text"
      },
      "source": [
        "<a href=\"https://colab.research.google.com/github/4100E012/4100E012/blob/main/python20210929.ipynb\" target=\"_parent\"><img src=\"https://colab.research.google.com/assets/colab-badge.svg\" alt=\"Open In Colab\"/></a>"
      ]
    },
    {
      "cell_type": "code",
      "metadata": {
        "colab": {
          "base_uri": "https://localhost:8080/"
        },
        "id": "SznnyxuGgz_e",
        "outputId": "4b56041d-cfc7-4796-ec97-c3aa955d61f8"
      },
      "source": [
        "x = input('Enter your name:')\n",
        "print('Hello, ' + x)"
      ],
      "execution_count": 1,
      "outputs": [
        {
          "output_type": "stream",
          "name": "stdout",
          "text": [
            "Enter your name:12\n",
            "Hello, 12\n"
          ]
        }
      ]
    },
    {
      "cell_type": "code",
      "metadata": {
        "colab": {
          "base_uri": "https://localhost:8080/"
        },
        "id": "OnwG1GSih6Iy",
        "outputId": "6411af8f-429e-44f7-b267-f5cff6f58c1d"
      },
      "source": [
        "type(x)"
      ],
      "execution_count": 2,
      "outputs": [
        {
          "output_type": "execute_result",
          "data": {
            "text/plain": [
              "str"
            ]
          },
          "metadata": {},
          "execution_count": 2
        }
      ]
    },
    {
      "cell_type": "code",
      "metadata": {
        "colab": {
          "base_uri": "https://localhost:8080/"
        },
        "id": "w6IvGhkFilxZ",
        "outputId": "56823b38-e728-4f24-e513-f6672ce0dfa3"
      },
      "source": [
        "a = int(input(\"請輸入：\"))\n",
        "a"
      ],
      "execution_count": 10,
      "outputs": [
        {
          "name": "stdout",
          "output_type": "stream",
          "text": [
            "請輸入：12\n"
          ]
        },
        {
          "output_type": "execute_result",
          "data": {
            "text/plain": [
              "12"
            ]
          },
          "metadata": {},
          "execution_count": 10
        }
      ]
    },
    {
      "cell_type": "code",
      "metadata": {
        "colab": {
          "base_uri": "https://localhost:8080/"
        },
        "id": "RLy5k36wi00I",
        "outputId": "e9c73f25-3162-46ba-bc58-eb5598fa436e"
      },
      "source": [
        "type(a)"
      ],
      "execution_count": 6,
      "outputs": [
        {
          "output_type": "execute_result",
          "data": {
            "text/plain": [
              "str"
            ]
          },
          "metadata": {},
          "execution_count": 6
        }
      ]
    },
    {
      "cell_type": "code",
      "metadata": {
        "colab": {
          "base_uri": "https://localhost:8080/"
        },
        "id": "T5Z8djBpiq5B",
        "outputId": "9d0c9180-341b-43a6-8b0e-d868b9ee6e8b"
      },
      "source": [
        "b = a+1\n",
        "b"
      ],
      "execution_count": 11,
      "outputs": [
        {
          "output_type": "execute_result",
          "data": {
            "text/plain": [
              "13"
            ]
          },
          "metadata": {},
          "execution_count": 11
        }
      ]
    },
    {
      "cell_type": "code",
      "metadata": {
        "colab": {
          "base_uri": "https://localhost:8080/"
        },
        "id": "LRcNqaRVjLcH",
        "outputId": "7d56b9da-199c-47f6-f25d-283bf89c2495"
      },
      "source": [
        "a,b = eval(input(\"請輸入兩個數位：\"))\n",
        "a,b"
      ],
      "execution_count": 12,
      "outputs": [
        {
          "name": "stdout",
          "output_type": "stream",
          "text": [
            "請輸入兩個數位：12,18\n"
          ]
        },
        {
          "output_type": "execute_result",
          "data": {
            "text/plain": [
              "(12, 18)"
            ]
          },
          "metadata": {},
          "execution_count": 12
        }
      ]
    },
    {
      "cell_type": "code",
      "metadata": {
        "colab": {
          "base_uri": "https://localhost:8080/"
        },
        "id": "9s1QXyDhjj62",
        "outputId": "b71eceeb-cef6-4e5a-c4df-df028b57088c"
      },
      "source": [
        "print(\"Happy : %2d, Python : %5.2f\" % (1, 05.333))"
      ],
      "execution_count": 13,
      "outputs": [
        {
          "output_type": "stream",
          "name": "stdout",
          "text": [
            "Happy :  1, Python :  5.33\n"
          ]
        }
      ]
    },
    {
      "cell_type": "code",
      "metadata": {
        "colab": {
          "base_uri": "https://localhost:8080/"
        },
        "id": "IFs0AnVzlQpB",
        "outputId": "8c5ab636-9ef6-4f95-d01d-5b87529fa687"
      },
      "source": [
        "a = 17 / 3\n",
        "b = 17 // 3\n",
        "c = 17 % 3\n",
        "\n",
        "a,b,c"
      ],
      "execution_count": 14,
      "outputs": [
        {
          "output_type": "execute_result",
          "data": {
            "text/plain": [
              "(5.666666666666667, 5, 2)"
            ]
          },
          "metadata": {},
          "execution_count": 14
        }
      ]
    },
    {
      "cell_type": "markdown",
      "metadata": {
        "id": "OAY2coPxlm5G"
      },
      "source": [
        "%3  ===> 1,2,3"
      ]
    },
    {
      "cell_type": "code",
      "metadata": {
        "colab": {
          "base_uri": "https://localhost:8080/"
        },
        "id": "0U7eVhF9lswX",
        "outputId": "21624eb6-e92d-4718-f0af-74ba9b1b7460"
      },
      "source": [
        "5 % 3"
      ],
      "execution_count": 16,
      "outputs": [
        {
          "output_type": "execute_result",
          "data": {
            "text/plain": [
              "2"
            ]
          },
          "metadata": {},
          "execution_count": 16
        }
      ]
    },
    {
      "cell_type": "code",
      "metadata": {
        "colab": {
          "base_uri": "https://localhost:8080/"
        },
        "id": "YfHt6wr-ly_l",
        "outputId": "019ca58c-310f-4b13-a1fa-192b11134d09"
      },
      "source": [
        "x = 5\n",
        "print(x > 3 and x < 10)"
      ],
      "execution_count": 17,
      "outputs": [
        {
          "output_type": "stream",
          "name": "stdout",
          "text": [
            "True\n"
          ]
        }
      ]
    },
    {
      "cell_type": "markdown",
      "metadata": {
        "id": "QatUUAS-mhK2"
      },
      "source": [
        "and閘 1,1=1"
      ]
    },
    {
      "cell_type": "code",
      "metadata": {
        "colab": {
          "base_uri": "https://localhost:8080/"
        },
        "id": "hD7fP8jbl3he",
        "outputId": "d976d57c-2993-481f-a882-fba228a90339"
      },
      "source": [
        "x = 5\n",
        "print(x > 3 or x < 4)"
      ],
      "execution_count": 18,
      "outputs": [
        {
          "output_type": "stream",
          "name": "stdout",
          "text": [
            "True\n"
          ]
        }
      ]
    },
    {
      "cell_type": "markdown",
      "metadata": {
        "id": "FsLxInAgm_BZ"
      },
      "source": [
        "or閘 1,0=1"
      ]
    },
    {
      "cell_type": "code",
      "metadata": {
        "colab": {
          "base_uri": "https://localhost:8080/"
        },
        "id": "Z5ti3ih8l6EN",
        "outputId": "7e63583e-1fd1-4293-f2cc-c6375ccab156"
      },
      "source": [
        "x = 5\n",
        "print(not(x > 3 and x < 10))"
      ],
      "execution_count": 19,
      "outputs": [
        {
          "output_type": "stream",
          "name": "stdout",
          "text": [
            "False\n"
          ]
        }
      ]
    },
    {
      "cell_type": "markdown",
      "metadata": {
        "id": "O8fQTc1MnE5X"
      },
      "source": [
        "and閘 1,1=0\n"
      ]
    },
    {
      "cell_type": "code",
      "metadata": {
        "colab": {
          "base_uri": "https://localhost:8080/"
        },
        "id": "QjIe-fgom9lm",
        "outputId": "4f2a979d-56a6-4410-b79f-57dd4bedd02f"
      },
      "source": [
        "a = 1.0004\n",
        "int(a)"
      ],
      "execution_count": 20,
      "outputs": [
        {
          "output_type": "execute_result",
          "data": {
            "text/plain": [
              "1"
            ]
          },
          "metadata": {},
          "execution_count": 20
        }
      ]
    },
    {
      "cell_type": "code",
      "metadata": {
        "colab": {
          "base_uri": "https://localhost:8080/"
        },
        "id": "W2c0p_y2nGn6",
        "outputId": "71dfa2ff-08c2-48c0-c02c-e3f1967fdc73"
      },
      "source": [
        "(150815**1941)%3"
      ],
      "execution_count": 21,
      "outputs": [
        {
          "output_type": "execute_result",
          "data": {
            "text/plain": [
              "2"
            ]
          },
          "metadata": {},
          "execution_count": 21
        }
      ]
    },
    {
      "cell_type": "code",
      "metadata": {
        "colab": {
          "base_uri": "https://localhost:8080/"
        },
        "id": "pOm5FzbhnlKh",
        "outputId": "05989ba8-577e-4ad4-f33c-908b199d47ce"
      },
      "source": [
        "abs(-5)"
      ],
      "execution_count": 22,
      "outputs": [
        {
          "output_type": "execute_result",
          "data": {
            "text/plain": [
              "5"
            ]
          },
          "metadata": {},
          "execution_count": 22
        }
      ]
    }
  ]
}